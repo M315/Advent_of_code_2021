{
 "cells": [
  {
   "cell_type": "code",
   "execution_count": 142,
   "id": "de61d7a3",
   "metadata": {},
   "outputs": [],
   "source": [
    "# Read numbers\n",
    "\n",
    "with open(\"input1.txt\") as f:\n",
    "    in_data = f.read()\n",
    "\n",
    "in_data = in_data.split('\\n')\n",
    "\n",
    "nums = in_data[0].split(',')"
   ]
  },
  {
   "cell_type": "code",
   "execution_count": 126,
   "id": "63d7020e",
   "metadata": {},
   "outputs": [],
   "source": [
    "# Read bingos\n",
    "def read_bingos():\n",
    "    original_bingos = []\n",
    "\n",
    "    i = 2\n",
    "    while i < len(in_data):\n",
    "        bi = []\n",
    "\n",
    "        while in_data[i]:\n",
    "            line = []\n",
    "\n",
    "            aux = in_data[i].split(' ')\n",
    "            for a in aux:\n",
    "                if a:\n",
    "                    line.append(int(a))\n",
    "\n",
    "            bi.append(line)\n",
    "\n",
    "            i += 1\n",
    "\n",
    "        original_bingos.append(bi)\n",
    "\n",
    "        i += 1\n",
    "    \n",
    "    return original_bingos"
   ]
  },
  {
   "cell_type": "code",
   "execution_count": 127,
   "id": "7150ead2",
   "metadata": {},
   "outputs": [],
   "source": [
    "# Returns if the bingo have won or not\n",
    "\n",
    "def win(bingo, x, y):\n",
    "    # Check row\n",
    "    r = 0\n",
    "    for i in range(len(bingo)):\n",
    "        r += bingo[i][y]\n",
    "    \n",
    "    # Check col\n",
    "    c = 0\n",
    "    for j in range(len(bingo)):\n",
    "        c += bingo[x][j]\n",
    "    \n",
    "    if r == -1 * len(bingo) or c == -1 * len(bingo):\n",
    "        return True\n",
    "    \n",
    "    return False"
   ]
  },
  {
   "cell_type": "code",
   "execution_count": 128,
   "id": "a91fe081",
   "metadata": {},
   "outputs": [],
   "source": [
    "# Returns the score of a bingo\n",
    "\n",
    "def score(bingo, num):\n",
    "    s = 0\n",
    "    for i in range(len(bingo)):\n",
    "        for j in range(len(bingo)):\n",
    "            if bingo[i][j] != -1:\n",
    "                s += bingo[i][j]\n",
    "    \n",
    "    print(s)\n",
    "    print(num)\n",
    "    return s * num"
   ]
  },
  {
   "cell_type": "code",
   "execution_count": 129,
   "id": "dd2b5da4",
   "metadata": {},
   "outputs": [],
   "source": [
    "# Returns the position of a given value in the bingo\n",
    "\n",
    "def possition(bingo, num):\n",
    "    for i in range(len(bingo)):\n",
    "        for j in range(len(bingo)):\n",
    "            if bingo[i][j] == num:\n",
    "                return (i, j)\n",
    "    \n",
    "    return (-1, -1)"
   ]
  },
  {
   "cell_type": "code",
   "execution_count": 146,
   "id": "eacad6b7",
   "metadata": {},
   "outputs": [],
   "source": [
    "def solve1():\n",
    "    bingos = read_bingos()\n",
    "    \n",
    "    for n in nums:\n",
    "        n = int(n)\n",
    "        for bingo in bingos:\n",
    "            i, j = possition(bingo, n)\n",
    "            \n",
    "            if i >= 0:\n",
    "                bingo[i][j] = -1\n",
    "            \n",
    "                if win(bingo, i, j):\n",
    "                    return score(bingo, n)\n",
    "    \n",
    "    return 0"
   ]
  },
  {
   "cell_type": "code",
   "execution_count": 147,
   "id": "d4d18864",
   "metadata": {},
   "outputs": [],
   "source": [
    "def solve2():\n",
    "    bingos = read_bingos()\n",
    "    \n",
    "    count_bingos = len(bingos)\n",
    "    \n",
    "    for n in nums:\n",
    "        n = int(n)\n",
    "        \n",
    "        to_remove = []\n",
    "        for bingo in bingos:\n",
    "            i, j = possition(bingo, n)\n",
    "            \n",
    "            if i >= 0:\n",
    "                bingo[i][j] = -1\n",
    "            \n",
    "                if win(bingo, i, j):\n",
    "                    if count_bingos == 1:\n",
    "                        return score(bingo, n)\n",
    "                    else:\n",
    "                        count_bingos -=1\n",
    "                        to_remove.append(bingo)\n",
    "        \n",
    "        for bingo in to_remove:\n",
    "            bingos.remove(bingo)\n",
    "    \n",
    "    return 0"
   ]
  }
 ],
 "metadata": {
  "kernelspec": {
   "display_name": "Python 3 (ipykernel)",
   "language": "python",
   "name": "python3"
  },
  "language_info": {
   "codemirror_mode": {
    "name": "ipython",
    "version": 3
   },
   "file_extension": ".py",
   "mimetype": "text/x-python",
   "name": "python",
   "nbconvert_exporter": "python",
   "pygments_lexer": "ipython3",
   "version": "3.9.5"
  }
 },
 "nbformat": 4,
 "nbformat_minor": 5
}
