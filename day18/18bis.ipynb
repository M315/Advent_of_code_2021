{
 "cells": [
  {
   "cell_type": "code",
   "execution_count": 38,
   "id": "3acd4b59",
   "metadata": {},
   "outputs": [],
   "source": [
    "import ast"
   ]
  },
  {
   "cell_type": "code",
   "execution_count": 52,
   "id": "ef3331f4",
   "metadata": {},
   "outputs": [],
   "source": [
    "# Read Data\n",
    "\n",
    "num = []\n",
    "with open(\"input_test.txt\") as f:\n",
    "    for line in f:\n",
    "        num.append(ast.literal_eval(line.strip()))"
   ]
  },
  {
   "cell_type": "code",
   "execution_count": 54,
   "id": "120b239d",
   "metadata": {},
   "outputs": [
    {
     "name": "stdout",
     "output_type": "stream",
     "text": [
      "[[[0, [4, 5]], [0, 0]], [[[4, 5], [2, 6]], [9, 5]]]\n",
      "[7, [[[3, 7], [4, 3]], [[6, 3], [8, 8]]]]\n",
      "[[2, [[0, 8], [3, 4]]], [[[6, 7], 1], [7, [1, 6]]]]\n",
      "[[[[2, 4], 7], [6, [0, 5]]], [[[6, 8], [2, 8]], [[2, 1], [4, 5]]]]\n",
      "[7, [5, [[3, 8], [1, 4]]]]\n",
      "[[2, [2, 2]], [8, [8, 1]]]\n",
      "[2, 9]\n",
      "[1, [[[9, 3], 9], [[9, 0], [0, 7]]]]\n",
      "[[[5, [7, 4]], 7], 1]\n",
      "[[[[4, 2], 2], 6], [8, 7]]\n"
     ]
    }
   ],
   "source": [
    "for n in num:\n",
    "    print(n)"
   ]
  },
  {
   "cell_type": "code",
   "execution_count": 130,
   "id": "79a8c653",
   "metadata": {},
   "outputs": [],
   "source": [
    "def find_explode(n):\n",
    "    pos = [-1, -1, -1, -1]\n",
    "    for one in n:\n",
    "        pos[0] += 1\n",
    "        if type(one) == list:\n",
    "            pos[1] = -1\n",
    "            for two in one:\n",
    "                pos[1] += 1\n",
    "                if type(two) == list:\n",
    "                    pos[2] = -1\n",
    "                    for three in two:\n",
    "                        pos[2] += 1\n",
    "                        if type(three) == list:\n",
    "                            pos[3] = -1\n",
    "                            for four in three:\n",
    "                                pos[3] += 1\n",
    "                                if type(four) == list:\n",
    "                                    return pos\n",
    "\n",
    "def explode(n):\n",
    "    pos = find_explode(n)\n",
    "    \n",
    "    if pos == None:\n",
    "        return False\n",
    "    \n",
    "    else:\n",
    "        a, b, c, d = pos\n",
    "        l, r = n[a][b][c][d]\n",
    "        \n",
    "        \n",
    "        \n",
    "        return True"
   ]
  },
  {
   "cell_type": "code",
   "execution_count": 142,
   "id": "c05569a5",
   "metadata": {},
   "outputs": [],
   "source": [
    "def find_split(n):\n",
    "    pos = [-1, -1, -1, -1]\n",
    "    for one in n:\n",
    "        pos[0] += 1\n",
    "        if type(one) == int:\n",
    "            if one >= 10:\n",
    "                return (1, pos)\n",
    "        else:\n",
    "            pos[1] = -1\n",
    "            for two in one:\n",
    "                pos[1] += 1\n",
    "                if type(two) == int: \n",
    "                    if two >= 10:\n",
    "                        return (2, pos)\n",
    "                else:\n",
    "                    pos[2] = -1\n",
    "                    for three in two:\n",
    "                        pos[2] += 1\n",
    "                        if type(three) == int:\n",
    "                            if three >= 10:\n",
    "                                return (3, pos)\n",
    "                        else:\n",
    "                            pos[3] = -1\n",
    "                            for four in three:\n",
    "                                pos[3] += 1\n",
    "                                if type(four) == int and four >= 10:\n",
    "                                    return (4, pos)"
   ]
  },
  {
   "cell_type": "code",
   "execution_count": 140,
   "id": "2ce0303f",
   "metadata": {},
   "outputs": [
    {
     "data": {
      "text/plain": [
       "(3, [0, 1, 0, 1])"
      ]
     },
     "execution_count": 140,
     "metadata": {},
     "output_type": "execute_result"
    }
   ],
   "source": [
    "find_split(n)"
   ]
  },
  {
   "cell_type": "code",
   "execution_count": 183,
   "id": "e99ebfa9",
   "metadata": {},
   "outputs": [],
   "source": [
    "def find_left(n, p):\n",
    "    a, b, c, d = p\n",
    "    \n",
    "    for i in range(a, -1, -1):\n",
    "        if type(n[i]) != list:\n",
    "            return (1, [i])\n",
    "        else:\n",
    "            for j in range(b, -1, -1):\n",
    "                if type(n[i][j]) != list:\n",
    "                    return (2, [i, j])\n",
    "                else:\n",
    "                    for s in range(c, -1, -1):\n",
    "                        if type(n[i][j][s]) != list:\n",
    "                            return (3, [i, j, s])\n",
    "                        else:\n",
    "                            for t in range(d - 1, -1, -1):\n",
    "                                if type(n[i][j][s][t]) != list:\n",
    "                                    return (4, [i, j, s, t])\n",
    "                                else:\n",
    "                                    return(5, [i, j, s, t, len(n[i][j][s][t]) - 1])\n",
    "\n",
    "def find_right(n, p):\n",
    "    a, b, c, d = p\n",
    "    \n",
    "    for i in range(a, len(n), +1):\n",
    "        if type(n[i]) != list:\n",
    "            return (1, [i])\n",
    "        else:\n",
    "            for j in range(b, len(n[i]), +1):\n",
    "                if type(n[i][j]) != list:\n",
    "                    return (2, [i, j])\n",
    "                else:\n",
    "                    for s in range(c, -1, -1):\n",
    "                        if type(n[i][j][s]) != list:\n",
    "                            return (3, [i, j, s])\n",
    "                        else:\n",
    "                            for t in range(d - 1, -1, -1):\n",
    "                                if type(n[i][j][s][t]) != list:\n",
    "                                    return (4, [i, j, s, t])\n",
    "                                else:\n",
    "                                    return(5, [i, j, s, t, len(n[i][j][s][t]) - 1])\n",
    "                                        "
   ]
  },
  {
   "cell_type": "code",
   "execution_count": 192,
   "id": "a1d62600",
   "metadata": {},
   "outputs": [
    {
     "name": "stdout",
     "output_type": "stream",
     "text": [
      "[7, [6, [5, [4, [3, 2]]]]]\n",
      "[1, 1, 1, 1]\n"
     ]
    }
   ],
   "source": [
    "n = [7,[6,[5,[4,[3,2]]]]]\n",
    "\n",
    "aux = n\n",
    "p = find_explode(aux)\n",
    "print(aux)\n",
    "print(p)"
   ]
  },
  {
   "cell_type": "code",
   "execution_count": 194,
   "id": "2c7f8d02",
   "metadata": {},
   "outputs": [
    {
     "name": "stdout",
     "output_type": "stream",
     "text": [
      "(4, [1, 1, 1, 0])\n"
     ]
    }
   ],
   "source": [
    "print(find_left(aux, p))"
   ]
  },
  {
   "cell_type": "code",
   "execution_count": 196,
   "id": "088a1e2b",
   "metadata": {},
   "outputs": [
    {
     "name": "stdout",
     "output_type": "stream",
     "text": [
      "4\n"
     ]
    }
   ],
   "source": [
    "print(aux[1][1][1][0])"
   ]
  }
 ],
 "metadata": {
  "kernelspec": {
   "display_name": "Python 3 (ipykernel)",
   "language": "python",
   "name": "python3"
  },
  "language_info": {
   "codemirror_mode": {
    "name": "ipython",
    "version": 3
   },
   "file_extension": ".py",
   "mimetype": "text/x-python",
   "name": "python",
   "nbconvert_exporter": "python",
   "pygments_lexer": "ipython3",
   "version": "3.9.5"
  }
 },
 "nbformat": 4,
 "nbformat_minor": 5
}
