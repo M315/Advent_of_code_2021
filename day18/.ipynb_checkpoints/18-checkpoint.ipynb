{
 "cells": [
  {
   "cell_type": "code",
   "execution_count": 1,
   "id": "64632a29",
   "metadata": {},
   "outputs": [],
   "source": [
    "import ast\n",
    "\n",
    "def add(n1, n2):\n",
    "    ret = [n1, n2]\n",
    "    return reduce_(ret)\n",
    "\n",
    "def reduce_(n):\n",
    "    did1, n1 = explode(n)\n",
    "    if did1:\n",
    "        return reduce_(n1)\n",
    "    else:\n",
    "        did2, n2 = split(n)\n",
    "        if did2:\n",
    "            return reduce_(n2)\n",
    "        else:\n",
    "            return n2\n",
    "    \n",
    "def explode(n):\n",
    "    ns = str(n)\n",
    "    parts = []\n",
    "    i = 0\n",
    "    while i < len(ns):\n",
    "        if ns[i] == '[':\n",
    "            parts.append('[')\n",
    "            i += 1\n",
    "        elif ns[i] == ',':\n",
    "            parts.append(',')\n",
    "            i += 1\n",
    "        elif ns[i] == ']':\n",
    "            parts.append(']')\n",
    "            i += 1\n",
    "        elif ns[i] == ' ':\n",
    "            i += 1\n",
    "        else:\n",
    "            assert ns[i].isdigit()\n",
    "            j = i\n",
    "            while j < len(ns) and ns[j].isdigit():\n",
    "                j += 1\n",
    "            parts.append(int(ns[i:j]))\n",
    "            i = j\n",
    "    \n",
    "    depth = 0\n",
    "    for i,c in enumerate(parts):\n",
    "        if c=='[':\n",
    "            depth += 1\n",
    "            if depth == 5:\n",
    "                left = parts[i+1]\n",
    "                assert isinstance(left, int)\n",
    "                assert parts[i+2] == ','\n",
    "                right = parts[i+3]\n",
    "                assert isinstance(right, int)\n",
    "                left_i = None\n",
    "                right_i = None\n",
    "                for j in range(len(parts)):\n",
    "                    if isinstance(parts[j], int) and j < i:\n",
    "                        left_i = j\n",
    "                    elif isinstance(parts[j], int) and j>i+3 and right_i is None:\n",
    "                        right_i = j\n",
    "                if right_i is not None:\n",
    "                    assert right_i > i\n",
    "                    parts[right_i] += right\n",
    "                parts = parts[:i] + [0] + parts[i+5:]\n",
    "                if left_i is not None:\n",
    "                    parts[left_i] += left\n",
    "                return True, ast.literal_eval(''.join([str(x) for x in parts]))\n",
    "        elif c==']':\n",
    "            depth -= 1\n",
    "        else:\n",
    "            pass\n",
    "    \n",
    "    return False, n\n",
    "\n",
    "def split(n):\n",
    "    if isinstance(n, list):\n",
    "        did1, n1 = split(n[0])\n",
    "        if did1:\n",
    "            return True, [n1, n[1]]\n",
    "        else:\n",
    "            did2, n2 = split(n[1])\n",
    "            return did2, [n1, n2]\n",
    "    else:\n",
    "        assert isinstance(n, int)\n",
    "        if n >= 10:\n",
    "            return True, [n//2, (n+1)//2]\n",
    "        else:\n",
    "            return False, n\n",
    "\n",
    "def magnitude(n):\n",
    "    if isinstance(n, list):\n",
    "        return 3*magnitude(n[0]) + 2*magnitude(n[1])\n",
    "    else:\n",
    "        return n"
   ]
  },
  {
   "cell_type": "code",
   "execution_count": 2,
   "id": "c39daa89",
   "metadata": {},
   "outputs": [],
   "source": [
    "data = open(\"input1.txt\").read().strip()\n",
    "\n",
    "X = []\n",
    "for line in data.split('\\n'):\n",
    "    assert line == line.strip()\n",
    "    X.append(ast.literal_eval(line))"
   ]
  },
  {
   "cell_type": "code",
   "execution_count": 4,
   "id": "1c278378",
   "metadata": {},
   "outputs": [
    {
     "name": "stdout",
     "output_type": "stream",
     "text": [
      "4017\n"
     ]
    }
   ],
   "source": [
    "ans = X[0]\n",
    "for i in range(1, len(X), +1):\n",
    "    ans = add(ans, X[i])\n",
    "\n",
    "print(magnitude(ans))"
   ]
  },
  {
   "cell_type": "code",
   "execution_count": 5,
   "id": "e17c7648",
   "metadata": {},
   "outputs": [
    {
     "name": "stdout",
     "output_type": "stream",
     "text": [
      "4583\n"
     ]
    }
   ],
   "source": [
    "ans = None\n",
    "for x in X:\n",
    "    for y in X:\n",
    "        if x != y:\n",
    "            score = magnitude(add(x, y))\n",
    "            if ans is None or score > ans:\n",
    "                ans = score\n",
    "print(ans)"
   ]
  }
 ],
 "metadata": {
  "kernelspec": {
   "display_name": "Python 3 (ipykernel)",
   "language": "python",
   "name": "python3"
  },
  "language_info": {
   "codemirror_mode": {
    "name": "ipython",
    "version": 3
   },
   "file_extension": ".py",
   "mimetype": "text/x-python",
   "name": "python",
   "nbconvert_exporter": "python",
   "pygments_lexer": "ipython3",
   "version": "3.9.5"
  }
 },
 "nbformat": 4,
 "nbformat_minor": 5
}
