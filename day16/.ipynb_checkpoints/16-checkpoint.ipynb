{
 "cells": [
  {
   "cell_type": "code",
   "execution_count": 51,
   "id": "58301fa7",
   "metadata": {},
   "outputs": [],
   "source": [
    "# Read Data\n",
    "\n",
    "with open(\"input1.txt\") as f:\n",
    "    in_data = f.read()\n",
    "\n",
    "\n",
    "M = \"\"\n",
    "for c in in_data:\n",
    "    if c != '\\n':\n",
    "        aux = bin(int(c, 16))[2:]\n",
    "        for _ in range(4 - len(aux)):\n",
    "            M += \"0\"\n",
    "        M += aux"
   ]
  },
  {
   "cell_type": "code",
   "execution_count": 30,
   "id": "2f68db7c",
   "metadata": {},
   "outputs": [],
   "source": [
    "def parse(msg):\n",
    "    # Version\n",
    "    version = int(\"\".join(msg[:3]), 2)\n",
    "    msg[:] = msg[3:]\n",
    "    \n",
    "    # Type ID\n",
    "    type_id = int(\"\".join(msg[:3]), 2)\n",
    "    msg[:] = msg[3:]\n",
    "    \n",
    "    if type_id == 4:\n",
    "        num = \"\"\n",
    "        \n",
    "        while msg[0] == '1':\n",
    "            num += \"\".join(msg[1:5])\n",
    "            msg[:] = msg[5:]\n",
    "            \n",
    "        num += \"\".join(msg[1:5])\n",
    "        msg[:] = msg[5:]\n",
    "        return (version, type_id, int(num, 2))\n",
    "    \n",
    "    else:\n",
    "        packets = []\n",
    "        \n",
    "        ctrl = int(\"\".join(msg[0]), 2)\n",
    "        msg[:] = msg[1:]\n",
    "        \n",
    "        if ctrl == 0:\n",
    "            l = int(\"\".join(msg[:15]), 2)\n",
    "            msg[:] = msg[15:]\n",
    "            \n",
    "            d = msg[:l]\n",
    "            msg[:] = msg[l:]\n",
    "            while d:\n",
    "                packets.append(parse(d))\n",
    "        \n",
    "        else:\n",
    "            n = int(\"\".join(msg[:11]), 2)\n",
    "            msg[:] = msg[11:]\n",
    "            \n",
    "            for _ in range(n):\n",
    "                packets.append(parse(msg))\n",
    "        \n",
    "        return (version, type_id, packets)"
   ]
  },
  {
   "cell_type": "code",
   "execution_count": 31,
   "id": "abec7482",
   "metadata": {},
   "outputs": [],
   "source": [
    "def version_sum(ret):\n",
    "    vs = ret[0]\n",
    "    \n",
    "    if ret[1] == 4:\n",
    "        return vs\n",
    "    \n",
    "    else:\n",
    "        for t in ret[2]:\n",
    "            vs += version_sum(t)\n",
    "        return vs\n",
    "\n",
    "def solve1(M):\n",
    "    msg = list(M)\n",
    "    return version_sum(parse(msg))"
   ]
  },
  {
   "cell_type": "code",
   "execution_count": 32,
   "id": "a559e615",
   "metadata": {},
   "outputs": [
    {
     "data": {
      "text/plain": [
       "13"
      ]
     },
     "execution_count": 32,
     "metadata": {},
     "output_type": "execute_result"
    }
   ],
   "source": [
    "solve1(M)"
   ]
  },
  {
   "cell_type": "code",
   "execution_count": 69,
   "id": "a1ae8350",
   "metadata": {},
   "outputs": [],
   "source": [
    "INT_MAX = 9223372036854775807\n",
    "INT_MIN = -9223372036854775808\n",
    "\n",
    "def operate(packet):\n",
    "    # Sum\n",
    "    if packet[1] == 0:\n",
    "        value = 0\n",
    "        for p in packet[2]:\n",
    "            value += operate(p)\n",
    "        return value\n",
    "    \n",
    "    # Prod\n",
    "    if packet[1] == 1:\n",
    "        value = 1\n",
    "        for p in packet[2]:\n",
    "            value *= operate(p)\n",
    "        return value\n",
    "    \n",
    "    # Min\n",
    "    if packet[1] == 2:\n",
    "        value = INT_MAX\n",
    "        for p in packet[2]:\n",
    "            value = min(value, operate(p))\n",
    "        return value\n",
    "    \n",
    "    # Max\n",
    "    if packet[1] == 3:\n",
    "        value = INT_MIN\n",
    "        for p in packet[2]:\n",
    "            value = max(value, operate(p))\n",
    "        return value\n",
    "    \n",
    "    # Number\n",
    "    if packet[1] == 4:\n",
    "        return packet[2]\n",
    "    \n",
    "    # Greater\n",
    "    if packet[1] == 5:\n",
    "        a = operate(packet[2][0])\n",
    "        b = operate(packet[2][1])\n",
    "        \n",
    "        return int(a > b)\n",
    "    \n",
    "    # Less\n",
    "    if packet[1] == 6:\n",
    "        a = operate(packet[2][0])\n",
    "        b = operate(packet[2][1])\n",
    "        \n",
    "        return int(a < b)\n",
    "    \n",
    "    #Equal\n",
    "    if packet[1] == 7:\n",
    "        a = operate(packet[2][0])\n",
    "        b = operate(packet[2][1])\n",
    "        \n",
    "        return int(a == b)\n",
    "\n",
    "def solve2(M):\n",
    "    msg = list(M)\n",
    "    \n",
    "    return operate(parse(msg))"
   ]
  },
  {
   "cell_type": "code",
   "execution_count": 71,
   "id": "f5283ea3",
   "metadata": {},
   "outputs": [
    {
     "data": {
      "text/plain": [
       "258888628940"
      ]
     },
     "execution_count": 71,
     "metadata": {},
     "output_type": "execute_result"
    }
   ],
   "source": [
    "solve2(M)"
   ]
  }
 ],
 "metadata": {
  "kernelspec": {
   "display_name": "Python 3 (ipykernel)",
   "language": "python",
   "name": "python3"
  },
  "language_info": {
   "codemirror_mode": {
    "name": "ipython",
    "version": 3
   },
   "file_extension": ".py",
   "mimetype": "text/x-python",
   "name": "python",
   "nbconvert_exporter": "python",
   "pygments_lexer": "ipython3",
   "version": "3.9.5"
  }
 },
 "nbformat": 4,
 "nbformat_minor": 5
}
