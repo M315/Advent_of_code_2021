{
 "cells": [
  {
   "cell_type": "code",
   "execution_count": 1,
   "id": "de61d7a3",
   "metadata": {},
   "outputs": [],
   "source": [
    "# Read Data\n",
    "\n",
    "with open(\"input1.txt\") as f:\n",
    "    in_data = f.read()\n",
    "\n",
    "lines = in_data.split('\\n')\n",
    "\n",
    "template = lines[0]\n",
    "\n",
    "# Read the lis of pair injections and save it in a dictionary\n",
    "pairs = dict()\n",
    "\n",
    "for i in range(2, len(lines)):\n",
    "    if(lines[i] != ''):\n",
    "        pair, arrow, mid = lines[i].split(' ')\n",
    "        pairs[pair] = mid"
   ]
  },
  {
   "cell_type": "code",
   "execution_count": 2,
   "id": "bfb521c3",
   "metadata": {},
   "outputs": [],
   "source": [
    "def simulate1(s):\n",
    "    new_s = s[0]\n",
    "    for i in range(len(s) - 1):\n",
    "        pair = s[i] + s[i+1]\n",
    "        new_s += pairs[pair] + s[i+1]\n",
    "        \n",
    "    return new_s"
   ]
  },
  {
   "cell_type": "code",
   "execution_count": 3,
   "id": "bfb31aae",
   "metadata": {},
   "outputs": [],
   "source": [
    "def solve1(n, temp):\n",
    "    for i in range(n):\n",
    "        temp = simulate1(temp)\n",
    "    \n",
    "    alph = [0] * 26\n",
    "    for c in temp:\n",
    "        alph[ord(c) - 65] += 1\n",
    "    \n",
    "    M = 0\n",
    "    m = len(temp)\n",
    "    for n in alph:\n",
    "        if n > M:\n",
    "            M = n\n",
    "        if n != 0 and n < m:\n",
    "            m = n\n",
    "    \n",
    "    return M - m"
   ]
  },
  {
   "cell_type": "code",
   "execution_count": 4,
   "id": "6ff7b263",
   "metadata": {},
   "outputs": [
    {
     "data": {
      "text/plain": [
       "2194"
      ]
     },
     "execution_count": 4,
     "metadata": {},
     "output_type": "execute_result"
    }
   ],
   "source": [
    "solve1(10, template)"
   ]
  },
  {
   "cell_type": "code",
   "execution_count": 5,
   "id": "e089e0cb",
   "metadata": {},
   "outputs": [],
   "source": [
    "def simulate2(alpha, existing_pairs):\n",
    "    new_existing = dict()\n",
    "    \n",
    "    for p in existing_pairs:\n",
    "        c = pairs[p]\n",
    "        alpha[ord(c) - 65] += existing_pairs[p]\n",
    "        \n",
    "        new_p = p[0] + c\n",
    "        if new_p in new_existing:\n",
    "            new_existing[new_p] += existing_pairs[p]\n",
    "        else:\n",
    "            new_existing[new_p] = existing_pairs[p]\n",
    "        \n",
    "        new_p = c + p[1]\n",
    "        if new_p in new_existing:\n",
    "            new_existing[new_p] += existing_pairs[p]\n",
    "        else:\n",
    "            new_existing[new_p] = existing_pairs[p]\n",
    "    \n",
    "    return new_existing"
   ]
  },
  {
   "cell_type": "code",
   "execution_count": 6,
   "id": "846a46e8",
   "metadata": {},
   "outputs": [],
   "source": [
    "def solve2(n, temp, existing_pairs):\n",
    "    alpha = [0] * 26\n",
    "    for c in temp:\n",
    "        alpha[ord(c) - 65] += 1\n",
    "    \n",
    "    for i in range(n):\n",
    "        existing_pairs = simulate2(alpha, existing_pairs)\n",
    "    \n",
    "    alpha.sort(reverse=True)\n",
    "    \n",
    "    M = alpha[0]\n",
    "    m = alpha[0]\n",
    "    for n in alpha:\n",
    "        if n == 0:\n",
    "            break\n",
    "        else:\n",
    "            m = n\n",
    "    \n",
    "    return M - m"
   ]
  },
  {
   "cell_type": "code",
   "execution_count": 9,
   "id": "9f42476f",
   "metadata": {},
   "outputs": [
    {
     "data": {
      "text/plain": [
       "2360298895777"
      ]
     },
     "execution_count": 9,
     "metadata": {},
     "output_type": "execute_result"
    }
   ],
   "source": [
    "# Get the existing pairs\n",
    "existing_pairs = dict()\n",
    "\n",
    "for i in range(len(template) - 1):\n",
    "    pair = template[i] + template[i+1]\n",
    "    if pair in existing_pairs:\n",
    "        existing_pairs[pair] += 1\n",
    "    else:\n",
    "        existing_pairs[pair] = 1\n",
    "    \n",
    "solve2(40, template, existing_pairs)"
   ]
  }
 ],
 "metadata": {
  "kernelspec": {
   "display_name": "Python 3 (ipykernel)",
   "language": "python",
   "name": "python3"
  },
  "language_info": {
   "codemirror_mode": {
    "name": "ipython",
    "version": 3
   },
   "file_extension": ".py",
   "mimetype": "text/x-python",
   "name": "python",
   "nbconvert_exporter": "python",
   "pygments_lexer": "ipython3",
   "version": "3.9.5"
  }
 },
 "nbformat": 4,
 "nbformat_minor": 5
}
